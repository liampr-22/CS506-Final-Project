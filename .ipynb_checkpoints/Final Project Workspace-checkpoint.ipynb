{
 "cells": [
  {
   "cell_type": "markdown",
   "id": "049f7994-3109-4d13-916d-3cca420229f2",
   "metadata": {},
   "source": [
    "# CS506 Final Project - Food Insecurity & Chronic Disease\n",
    "\n",
    "## Group: Ania Shaheed, Alec Silver, Emily Dunlop, Kimberly, Liam Ryan"
   ]
  },
  {
   "cell_type": "code",
   "execution_count": null,
   "id": "64a04e7e-fb50-49d6-b36a-346ba1fcad73",
   "metadata": {},
   "outputs": [],
   "source": []
  }
 ],
 "metadata": {
  "kernelspec": {
   "display_name": "Python 3 (ipykernel)",
   "language": "python",
   "name": "python3"
  },
  "language_info": {
   "codemirror_mode": {
    "name": "ipython",
    "version": 3
   },
   "file_extension": ".py",
   "mimetype": "text/x-python",
   "name": "python",
   "nbconvert_exporter": "python",
   "pygments_lexer": "ipython3",
   "version": "3.12.2"
  }
 },
 "nbformat": 4,
 "nbformat_minor": 5
}
